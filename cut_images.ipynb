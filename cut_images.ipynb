{
 "cells": [
  {
   "cell_type": "code",
   "execution_count": 11,
   "metadata": {},
   "outputs": [
    {
     "data": {
      "text/plain": [
       "'16-41.830340--87.680170.png'"
      ]
     },
     "execution_count": 11,
     "metadata": {},
     "output_type": "execute_result"
    }
   ],
   "source": [
    "path.name"
   ]
  },
  {
   "cell_type": "code",
   "execution_count": 26,
   "metadata": {},
   "outputs": [],
   "source": [
    "from pathlib import Path\n",
    "from PIL import Image\n",
    " \n",
    "def crop(image_path, coords, new_size, saved_location):\n",
    "    \"\"\"\n",
    "    @param image_path: The path to the image to edit\n",
    "    @param coords: A tuple of x/y coordinates (x1, y1, x2, y2)\n",
    "    @param saved_location: Path to save the cropped image\n",
    "    \"\"\"\n",
    "    image_obj = Image.open(image_path)\n",
    "    cropped_image = image_obj.crop(coords).resize(new_size)\n",
    "    cropped_image.save(saved_location)\n",
    "\n",
    "pathlist = Path(\"screenshots\").glob('**/*.png')\n",
    "for path in pathlist:\n",
    "    renamed_file = str(path.name).replace(\"--\", '*-').replace('16-', '16*')\n",
    "    new_name_big = \"processed_shots/big_\" + renamed_file\n",
    "    new_name_small = \"processed_shots/small_\" + renamed_file\n",
    "    crop(path, (700, 100, 2700, 1300), (200, 120), new_name_big)\n",
    "    crop(path, (1050, 600, 1450, 840), (200, 120), new_name_small)"
   ]
  },
  {
   "cell_type": "code",
   "execution_count": 25,
   "metadata": {},
   "outputs": [],
   "source": [
    "crop(\"screenshots/802*16.png\", (700, 100, 2700, 1300), (200, 120), \"processed_shots/small_test.png\")"
   ]
  },
  {
   "cell_type": "code",
   "execution_count": null,
   "metadata": {},
   "outputs": [],
   "source": []
  }
 ],
 "metadata": {
  "kernelspec": {
   "display_name": "Python 3",
   "language": "python",
   "name": "python3"
  },
  "language_info": {
   "codemirror_mode": {
    "name": "ipython",
    "version": 3
   },
   "file_extension": ".py",
   "mimetype": "text/x-python",
   "name": "python",
   "nbconvert_exporter": "python",
   "pygments_lexer": "ipython3",
   "version": "3.7.2"
  }
 },
 "nbformat": 4,
 "nbformat_minor": 2
}

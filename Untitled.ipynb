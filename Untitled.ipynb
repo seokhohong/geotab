{
 "cells": [
  {
   "cell_type": "code",
   "execution_count": 1,
   "metadata": {},
   "outputs": [],
   "source": [
    "import pandas as pd"
   ]
  },
  {
   "cell_type": "code",
   "execution_count": 4,
   "metadata": {},
   "outputs": [],
   "source": [
    "train = pd.read_csv('train.csv')"
   ]
  },
  {
   "cell_type": "code",
   "execution_count": 13,
   "metadata": {},
   "outputs": [
    {
     "data": {
      "text/plain": [
       "Index(['RowId', 'IntersectionId', 'Latitude', 'Longitude', 'EntryStreetName',\n",
       "       'ExitStreetName', 'EntryHeading', 'ExitHeading', 'Hour', 'Weekend',\n",
       "       'Month', 'Path', 'TotalTimeStopped_p20', 'TotalTimeStopped_p40',\n",
       "       'TotalTimeStopped_p50', 'TotalTimeStopped_p60', 'TotalTimeStopped_p80',\n",
       "       'TimeFromFirstStop_p20', 'TimeFromFirstStop_p40',\n",
       "       'TimeFromFirstStop_p50', 'TimeFromFirstStop_p60',\n",
       "       'TimeFromFirstStop_p80', 'DistanceToFirstStop_p20',\n",
       "       'DistanceToFirstStop_p40', 'DistanceToFirstStop_p50',\n",
       "       'DistanceToFirstStop_p60', 'DistanceToFirstStop_p80', 'City'],\n",
       "      dtype='object')"
      ]
     },
     "execution_count": 13,
     "metadata": {},
     "output_type": "execute_result"
    }
   ],
   "source": [
    "train.columns"
   ]
  },
  {
   "cell_type": "code",
   "execution_count": null,
   "metadata": {},
   "outputs": [],
   "source": []
  }
 ],
 "metadata": {
  "kernelspec": {
   "display_name": "Python 3",
   "language": "python",
   "name": "python3"
  },
  "language_info": {
   "codemirror_mode": {
    "name": "ipython",
    "version": 3
   },
   "file_extension": ".py",
   "mimetype": "text/x-python",
   "name": "python",
   "nbconvert_exporter": "python",
   "pygments_lexer": "ipython3",
   "version": "3.7.2"
  }
 },
 "nbformat": 4,
 "nbformat_minor": 2
}

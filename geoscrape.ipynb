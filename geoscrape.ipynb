{
 "cells": [
  {
   "cell_type": "code",
   "execution_count": 35,
   "metadata": {},
   "outputs": [],
   "source": [
    "import pandas as pd\n",
    "import selenium\n",
    "from selenium.webdriver.firefox.firefox_profile import FirefoxProfile\n",
    "\n",
    "from selenium import webdriver\n",
    "from selenium.webdriver.common.keys import Keys\n",
    "import multiprocessing\n",
    "from selenium.webdriver.common.by import By\n",
    "from selenium.webdriver.support.ui import WebDriverWait\n",
    "from selenium.webdriver.support import expected_conditions as EC\n",
    "\n",
    "from multiprocessing import Pool\n",
    "import numpy as np\n",
    "import time\n",
    "\n",
    "from selenium.common.exceptions import TimeoutException"
   ]
  },
  {
   "cell_type": "code",
   "execution_count": 2,
   "metadata": {},
   "outputs": [],
   "source": [
    "import sys\n",
    "from pathlib import Path\n",
    "sys.path.append(str(Path(\"../lib/\").absolute()))"
   ]
  },
  {
   "cell_type": "code",
   "execution_count": 31,
   "metadata": {},
   "outputs": [],
   "source": [
    "def run_scraper(coords):\n",
    "    profile = FirefoxProfile()\n",
    "    profile.set_preference(\"javascript.enabled\", True)\n",
    "    driver = webdriver.Firefox(profile)\n",
    "    driver.implicitly_wait(10)\n",
    "    \n",
    "    for lat, lon, zoom in coords:\n",
    "        driver.get(\"https://www.openstreetmap.org/#map=%d/%f/%f\" % (zoom, lat, lon))\n",
    "        time.sleep(5)\n",
    "        driver.save_screenshot(\"screenshots/%d-%f-%f.png\" % (zoom, lat, lon))\n",
    "    \n",
    "    driver.quit()\n",
    "    "
   ]
  },
  {
   "cell_type": "code",
   "execution_count": 32,
   "metadata": {},
   "outputs": [],
   "source": [
    "def scrape_pool(all_coords, num_processes=2):\n",
    "    pool = Pool(num_processes)\n",
    "    manager = multiprocessing.Manager()\n",
    "    coords = np.array_split(all_coords, num_processes)\n",
    "\n",
    "    for i in range(num_processes):\n",
    "        pool.apply_async(run_scraper, args=(coords[i], ))\n",
    "\n",
    "    pool.close()\n",
    "    pool.join()"
   ]
  },
  {
   "cell_type": "code",
   "execution_count": 15,
   "metadata": {},
   "outputs": [],
   "source": [
    "all_coords = [(33.7401, -84.3158, 18)]\n",
    "scrape_pool(all_coords)"
   ]
  },
  {
   "cell_type": "code",
   "execution_count": 17,
   "metadata": {},
   "outputs": [],
   "source": [
    "orig_train = pd.read_csv('train.csv')\n",
    "orig_test = pd.read_csv('test.csv')"
   ]
  },
  {
   "cell_type": "code",
   "execution_count": 25,
   "metadata": {},
   "outputs": [],
   "source": [
    "full_df = pd.concat([orig_train[['Latitude', 'Longitude']], orig_test[['Latitude', 'Longitude']]])\n",
    "full_df['zoom'] = 16"
   ]
  },
  {
   "cell_type": "code",
   "execution_count": null,
   "metadata": {},
   "outputs": [],
   "source": [
    "scrape_pool(full_df.drop_duplicates().values, num_processes=4)"
   ]
  },
  {
   "cell_type": "code",
   "execution_count": null,
   "metadata": {},
   "outputs": [],
   "source": []
  }
 ],
 "metadata": {
  "kernelspec": {
   "display_name": "Python 3",
   "language": "python",
   "name": "python3"
  },
  "language_info": {
   "codemirror_mode": {
    "name": "ipython",
    "version": 3
   },
   "file_extension": ".py",
   "mimetype": "text/x-python",
   "name": "python",
   "nbconvert_exporter": "python",
   "pygments_lexer": "ipython3",
   "version": "3.7.2"
  }
 },
 "nbformat": 4,
 "nbformat_minor": 2
}
